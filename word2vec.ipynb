{
 "cells": [
  {
   "cell_type": "code",
   "execution_count": 1,
   "id": "554bdbbb",
   "metadata": {},
   "outputs": [],
   "source": [
    "import os\n",
    "import re\n",
    "\n",
    "import pandas as pd\n",
    "import numpy as np\n",
    "\n",
    "from bs4 import BeautifulSoup\n",
    "from nltk.corpus import stopwords\n",
    "from nltk.tokenize import word_tokenize\n"
   ]
  },
  {
   "cell_type": "code",
   "execution_count": 2,
   "id": "e5bea4b1",
   "metadata": {},
   "outputs": [],
   "source": [
    "DATA_IN_PATH = './data_in/'\n",
    "TRAIN_CLEAN_DATA = 'train_clean.csv'\n",
    "\n",
    "train_data = pd.read_csv(DATA_IN_PATH + TRAIN_CLEAN_DATA)\n",
    "\n",
    "reviews = list(train_data['review'])\n",
    "sentiments= list(train_data['sentiment'])\n",
    "\n",
    "sentences = []\n",
    "for review in reviews:\n",
    "    sentences.append(review.split())"
   ]
  },
  {
   "cell_type": "code",
   "execution_count": 3,
   "id": "8e606a44",
   "metadata": {},
   "outputs": [],
   "source": [
    "num_features = 300\n",
    "min_word_count = 40\n",
    "num_workers = 4\n",
    "context = 10\n",
    "downsampling = 1e-3"
   ]
  },
  {
   "cell_type": "code",
   "execution_count": 4,
   "id": "70b9a4b3",
   "metadata": {},
   "outputs": [],
   "source": [
    "import logging\n",
    "logging.basicConfig(format='%(asctime)s : %(levelname)s : %(message)s',level = logging.INFO )"
   ]
  },
  {
   "cell_type": "code",
   "execution_count": 6,
   "id": "540ad36c",
   "metadata": {
    "scrolled": true
   },
   "outputs": [
    {
     "name": "stderr",
     "output_type": "stream",
     "text": [
      "2023-03-29 13:02:20,467 : INFO : collecting all words and their counts\n",
      "2023-03-29 13:02:20,473 : INFO : PROGRESS: at sentence #0, processed 0 words, keeping 0 word types\n",
      "2023-03-29 13:02:20,877 : INFO : PROGRESS: at sentence #10000, processed 1205223 words, keeping 51374 word types\n",
      "2023-03-29 13:02:21,328 : INFO : PROGRESS: at sentence #20000, processed 2396605 words, keeping 67660 word types\n",
      "2023-03-29 13:02:21,531 : INFO : collected 74065 word types from a corpus of 2988089 raw words and 25000 sentences\n",
      "2023-03-29 13:02:21,532 : INFO : Creating a fresh vocabulary\n",
      "2023-03-29 13:02:21,629 : INFO : Word2Vec lifecycle event {'msg': 'effective_min_count=40 retains 8160 unique words (11.02% of original 74065, drops 65905)', 'datetime': '2023-03-29T13:02:21.629958', 'gensim': '4.3.1', 'python': '3.9.7 (default, Sep 16 2021, 16:59:28) [MSC v.1916 64 bit (AMD64)]', 'platform': 'Windows-10-10.0.22000-SP0', 'event': 'prepare_vocab'}\n",
      "2023-03-29 13:02:21,632 : INFO : Word2Vec lifecycle event {'msg': 'effective_min_count=40 leaves 2627273 word corpus (87.92% of original 2988089, drops 360816)', 'datetime': '2023-03-29T13:02:21.631146', 'gensim': '4.3.1', 'python': '3.9.7 (default, Sep 16 2021, 16:59:28) [MSC v.1916 64 bit (AMD64)]', 'platform': 'Windows-10-10.0.22000-SP0', 'event': 'prepare_vocab'}\n",
      "2023-03-29 13:02:21,710 : INFO : deleting the raw counts dictionary of 74065 items\n",
      "2023-03-29 13:02:21,713 : INFO : sample=0.001 downsamples 30 most-common words\n",
      "2023-03-29 13:02:21,714 : INFO : Word2Vec lifecycle event {'msg': 'downsampling leaves estimated 2494384.49928802 word corpus (94.9%% of prior 2627273)', 'datetime': '2023-03-29T13:02:21.714119', 'gensim': '4.3.1', 'python': '3.9.7 (default, Sep 16 2021, 16:59:28) [MSC v.1916 64 bit (AMD64)]', 'platform': 'Windows-10-10.0.22000-SP0', 'event': 'prepare_vocab'}\n",
      "2023-03-29 13:02:21,823 : INFO : estimated required memory for 8160 words and 300 dimensions: 23664000 bytes\n",
      "2023-03-29 13:02:21,824 : INFO : resetting layer weights\n",
      "2023-03-29 13:02:21,847 : INFO : Word2Vec lifecycle event {'update': False, 'trim_rule': 'None', 'datetime': '2023-03-29T13:02:21.847074', 'gensim': '4.3.1', 'python': '3.9.7 (default, Sep 16 2021, 16:59:28) [MSC v.1916 64 bit (AMD64)]', 'platform': 'Windows-10-10.0.22000-SP0', 'event': 'build_vocab'}\n",
      "2023-03-29 13:02:21,848 : INFO : Word2Vec lifecycle event {'msg': 'training model with 4 workers on 8160 vocabulary and 300 features, using sg=0 hs=0 sample=0.001 negative=5 window=10 shrink_windows=True', 'datetime': '2023-03-29T13:02:21.848389', 'gensim': '4.3.1', 'python': '3.9.7 (default, Sep 16 2021, 16:59:28) [MSC v.1916 64 bit (AMD64)]', 'platform': 'Windows-10-10.0.22000-SP0', 'event': 'train'}\n",
      "2023-03-29 13:02:22,860 : INFO : EPOCH 0 - PROGRESS: at 26.91% examples, 674012 words/s, in_qsize 7, out_qsize 0\n",
      "2023-03-29 13:02:23,873 : INFO : EPOCH 0 - PROGRESS: at 56.18% examples, 701037 words/s, in_qsize 7, out_qsize 0\n",
      "2023-03-29 13:02:24,911 : INFO : EPOCH 0 - PROGRESS: at 85.94% examples, 704362 words/s, in_qsize 7, out_qsize 0\n",
      "2023-03-29 13:02:25,381 : INFO : EPOCH 0: training on 2988089 raw words (2494257 effective words) took 3.5s, 707210 effective words/s\n",
      "2023-03-29 13:02:26,396 : INFO : EPOCH 1 - PROGRESS: at 26.25% examples, 655727 words/s, in_qsize 8, out_qsize 0\n",
      "2023-03-29 13:02:27,413 : INFO : EPOCH 1 - PROGRESS: at 55.57% examples, 690450 words/s, in_qsize 8, out_qsize 0\n",
      "2023-03-29 13:02:28,414 : INFO : EPOCH 1 - PROGRESS: at 84.33% examples, 697819 words/s, in_qsize 8, out_qsize 0\n",
      "2023-03-29 13:02:28,967 : INFO : EPOCH 1: training on 2988089 raw words (2494426 effective words) took 3.6s, 696884 effective words/s\n",
      "2023-03-29 13:02:29,991 : INFO : EPOCH 2 - PROGRESS: at 27.52% examples, 681507 words/s, in_qsize 7, out_qsize 0\n",
      "2023-03-29 13:02:31,001 : INFO : EPOCH 2 - PROGRESS: at 57.25% examples, 709829 words/s, in_qsize 7, out_qsize 0\n",
      "2023-03-29 13:02:32,010 : INFO : EPOCH 2 - PROGRESS: at 85.63% examples, 706053 words/s, in_qsize 7, out_qsize 0\n",
      "2023-03-29 13:02:32,478 : INFO : EPOCH 2: training on 2988089 raw words (2494108 effective words) took 3.5s, 711464 effective words/s\n",
      "2023-03-29 13:02:33,486 : INFO : EPOCH 3 - PROGRESS: at 27.24% examples, 685745 words/s, in_qsize 8, out_qsize 0\n",
      "2023-03-29 13:02:34,486 : INFO : EPOCH 3 - PROGRESS: at 55.90% examples, 702923 words/s, in_qsize 8, out_qsize 1\n",
      "2023-03-29 13:02:35,503 : INFO : EPOCH 3 - PROGRESS: at 85.30% examples, 707671 words/s, in_qsize 8, out_qsize 0\n",
      "2023-03-29 13:02:35,979 : INFO : EPOCH 3: training on 2988089 raw words (2494488 effective words) took 3.5s, 713817 effective words/s\n",
      "2023-03-29 13:02:37,022 : INFO : EPOCH 4 - PROGRESS: at 27.24% examples, 661534 words/s, in_qsize 7, out_qsize 0\n",
      "2023-03-29 13:02:38,042 : INFO : EPOCH 4 - PROGRESS: at 54.91% examples, 671731 words/s, in_qsize 7, out_qsize 0\n",
      "2023-03-29 13:02:39,054 : INFO : EPOCH 4 - PROGRESS: at 84.64% examples, 690588 words/s, in_qsize 7, out_qsize 0\n",
      "2023-03-29 13:02:39,533 : INFO : EPOCH 4: training on 2988089 raw words (2493956 effective words) took 3.5s, 702914 effective words/s\n",
      "2023-03-29 13:02:39,534 : INFO : Word2Vec lifecycle event {'msg': 'training on 14940445 raw words (12471235 effective words) took 17.7s, 705161 effective words/s', 'datetime': '2023-03-29T13:02:39.534956', 'gensim': '4.3.1', 'python': '3.9.7 (default, Sep 16 2021, 16:59:28) [MSC v.1916 64 bit (AMD64)]', 'platform': 'Windows-10-10.0.22000-SP0', 'event': 'train'}\n",
      "2023-03-29 13:02:39,536 : INFO : Word2Vec lifecycle event {'params': 'Word2Vec<vocab=8160, vector_size=300, alpha=0.025>', 'datetime': '2023-03-29T13:02:39.536038', 'gensim': '4.3.1', 'python': '3.9.7 (default, Sep 16 2021, 16:59:28) [MSC v.1916 64 bit (AMD64)]', 'platform': 'Windows-10-10.0.22000-SP0', 'event': 'created'}\n"
     ]
    }
   ],
   "source": [
    "from gensim.models import word2vec\n",
    "\n",
    "model = word2vec.Word2Vec(sentences, workers = num_workers, \\\n",
    "                         vector_size = num_features, min_count = min_word_count,\\\n",
    "                         window = context, sample = downsampling)"
   ]
  },
  {
   "cell_type": "code",
   "execution_count": 7,
   "id": "08067507",
   "metadata": {},
   "outputs": [
    {
     "name": "stderr",
     "output_type": "stream",
     "text": [
      "2023-03-29 13:03:00,300 : INFO : Word2Vec lifecycle event {'fname_or_handle': '300features_40minwords_10contest', 'separately': 'None', 'sep_limit': 10485760, 'ignore': frozenset(), 'datetime': '2023-03-29T13:03:00.300930', 'gensim': '4.3.1', 'python': '3.9.7 (default, Sep 16 2021, 16:59:28) [MSC v.1916 64 bit (AMD64)]', 'platform': 'Windows-10-10.0.22000-SP0', 'event': 'saving'}\n",
      "2023-03-29 13:03:00,302 : INFO : not storing attribute cum_table\n",
      "2023-03-29 13:03:00,342 : INFO : saved 300features_40minwords_10contest\n"
     ]
    }
   ],
   "source": [
    "model_name = \"300features_40minwords_10contest\"\n",
    "model.save(model_name)"
   ]
  },
  {
   "cell_type": "code",
   "execution_count": 9,
   "id": "bbca6ea1",
   "metadata": {},
   "outputs": [],
   "source": [
    "def get_features(words, model, num_features):\n",
    "    feature_vector = np.zeros((num_features),dtype=np.float32)\n",
    "    \n",
    "    num_words = 0\n",
    "    index2word_set = set(model.wv.index_to_key)\n",
    "    \n",
    "    for w in words:\n",
    "        if w in index2word_set:\n",
    "            num_words += 1\n",
    "            feature_vector = np.add(feature_vector, model.wv[w])\n",
    "            \n",
    "    feature_vector = np.divide(feature_vector, num_words)\n",
    "    return feature_vector"
   ]
  },
  {
   "cell_type": "code",
   "execution_count": 12,
   "id": "b156eb14",
   "metadata": {},
   "outputs": [],
   "source": [
    "def get_dataset(reviews, model, num_features):\n",
    "    dataset = list()\n",
    "    \n",
    "    for s in reviews:\n",
    "        dataset.append(get_features(s, model, num_features))\n",
    "    \n",
    "    reviewFeatureVecs = np.stack(dataset)\n",
    "    \n",
    "    return reviewFeatureVecs"
   ]
  },
  {
   "cell_type": "code",
   "execution_count": 14,
   "id": "7e9b2072",
   "metadata": {},
   "outputs": [],
   "source": [
    "test_data_vecs = get_dataset(sentences, model, num_features)"
   ]
  },
  {
   "cell_type": "code",
   "execution_count": 16,
   "id": "bcf9ea5a",
   "metadata": {},
   "outputs": [
    {
     "ename": "ModuleNotFoundError",
     "evalue": "No module named 'sklearn'",
     "output_type": "error",
     "traceback": [
      "\u001b[1;31m---------------------------------------------------------------------------\u001b[0m",
      "\u001b[1;31mModuleNotFoundError\u001b[0m                       Traceback (most recent call last)",
      "Cell \u001b[1;32mIn[16], line 1\u001b[0m\n\u001b[1;32m----> 1\u001b[0m \u001b[38;5;28;01mfrom\u001b[39;00m \u001b[38;5;21;01msklearn\u001b[39;00m\u001b[38;5;21;01m.\u001b[39;00m\u001b[38;5;21;01mmodel_selection\u001b[39;00m \u001b[38;5;28;01mimport\u001b[39;00m train_test_split\n\u001b[0;32m      3\u001b[0m X \u001b[38;5;241m=\u001b[39m test_data_vecs\n\u001b[0;32m      4\u001b[0m y \u001b[38;5;241m=\u001b[39m np\u001b[38;5;241m.\u001b[39marray(sentiments)\n",
      "\u001b[1;31mModuleNotFoundError\u001b[0m: No module named 'sklearn'"
     ]
    }
   ],
   "source": [
    "from sklearn.model_selection import train_test_split\n",
    "\n",
    "X = test_data_vecs\n",
    "y = np.array(sentiments)\n",
    "\n",
    "X_train, X_test, y_train, y_test = train_test_split(X, y, test_size = 0.2, random_state = 42)"
   ]
  },
  {
   "cell_type": "code",
   "execution_count": null,
   "id": "aeb5adb9",
   "metadata": {},
   "outputs": [],
   "source": [
    "pip install sk"
   ]
  }
 ],
 "metadata": {
  "kernelspec": {
   "display_name": "Python 3 (ipykernel)",
   "language": "python",
   "name": "python3"
  },
  "language_info": {
   "codemirror_mode": {
    "name": "ipython",
    "version": 3
   },
   "file_extension": ".py",
   "mimetype": "text/x-python",
   "name": "python",
   "nbconvert_exporter": "python",
   "pygments_lexer": "ipython3",
   "version": "3.9.7"
  }
 },
 "nbformat": 4,
 "nbformat_minor": 5
}
